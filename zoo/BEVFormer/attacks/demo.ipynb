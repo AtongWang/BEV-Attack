{
 "cells": [
  {
   "cell_type": "markdown",
   "metadata": {},
   "source": [
    "# BEVFormer Attack Demo"
   ]
  },
  {
   "cell_type": "markdown",
   "metadata": {},
   "source": [
    "### Praparation"
   ]
  },
  {
   "cell_type": "markdown",
   "metadata": {},
   "source": [
    "Load dependence"
   ]
  },
  {
   "cell_type": "code",
   "execution_count": 6,
   "metadata": {},
   "outputs": [],
   "source": [
    "# an workaround to load path\n",
    "import sys\n",
    "sys.path.append('/home/cihangxie/shaoyuan/BEV-Attack/zoo/BEVFormer')"
   ]
  },
  {
   "cell_type": "code",
   "execution_count": 7,
   "metadata": {},
   "outputs": [],
   "source": [
    "import argparse\n",
    "import mmcv\n",
    "import os\n",
    "import torch\n",
    "import warnings\n",
    "from typing import Tuple\n",
    "from mmcv import Config, DictAction\n",
    "from mmcv.cnn import fuse_conv_bn\n",
    "from mmcv.parallel import MMDataParallel, MMDistributedDataParallel\n",
    "from mmcv.runner import (get_dist_info, init_dist, load_checkpoint,\n",
    "                         wrap_fp16_model)\n",
    "\n",
    "from mmdet3d.datasets import build_dataset\n",
    "from projects.mmdet3d_plugin.datasets.builder import build_dataloader\n",
    "from mmdet3d.models import build_model\n",
    "from mmdet.apis import set_random_seed\n",
    "from mmdet.datasets import replace_ImageToTensor\n",
    "import time\n",
    "import os.path as osp\n",
    "\n",
    "from attacks.attacker.builder import build_attack\n",
    "import attacks.dataset\n",
    "import attacks.bbox\n",
    "import attacks.losses\n",
    "from attacks.utils import single_gpu_attack"
   ]
  },
  {
   "cell_type": "markdown",
   "metadata": {},
   "source": [
    "specify mmcv config file and checkpoint"
   ]
  },
  {
   "cell_type": "code",
   "execution_count": 13,
   "metadata": {},
   "outputs": [],
   "source": [
    "config = '/home/cihangxie/shaoyuan/BEV-Attack/zoo/BEVFormer/projects/configs/bevformer/bevformer_base_adv.py'\n",
    "checkpoint_path = '/home/cihangxie/shaoyuan/BEV-Attack/models/bevformer/bevformer_r101_dcn_24ep.pth'"
   ]
  },
  {
   "cell_type": "markdown",
   "metadata": {},
   "source": [
    "parse config file and import mmdet plugin module"
   ]
  },
  {
   "cell_type": "code",
   "execution_count": 14,
   "metadata": {},
   "outputs": [
    {
     "name": "stdout",
     "output_type": "stream",
     "text": [
      "load python module projects.mmdet3d_plugin\n",
      "load python module attacks\n"
     ]
    }
   ],
   "source": [
    "cfg = Config.fromfile(config)\n",
    "# import modules from string list.\n",
    "if cfg.get('custom_imports', None):\n",
    "    from mmcv.utils import import_modules_from_strings\n",
    "    import_modules_from_strings(**cfg['custom_imports'])\n",
    "\n",
    "# import modules from plguin/xx, registry will be updated\n",
    "if hasattr(cfg, 'plugin'):\n",
    "    if cfg.plugin:\n",
    "        import importlib\n",
    "        if hasattr(cfg, 'plugin_dir'):\n",
    "            if isinstance(cfg.plugin_dir, str):\n",
    "                cfg.plugin_dir = [cfg.plugin_dir]\n",
    "            # import multi plugin modules\n",
    "            for plugin_dir_ in cfg.plugin_dir:\n",
    "                _module_dir = os.path.dirname(plugin_dir_)\n",
    "                _module_dir = _module_dir.split('/')\n",
    "                _module_path = _module_dir[0]\n",
    "\n",
    "                for m in _module_dir[1:]:\n",
    "                    _module_path = _module_path + '.' + m\n",
    "                print('load python module {}'.format(_module_path))\n",
    "                plg_lib = importlib.import_module(_module_path)"
   ]
  },
  {
   "cell_type": "markdown",
   "metadata": {},
   "source": [
    "build dataset and dataloader"
   ]
  },
  {
   "cell_type": "code",
   "execution_count": 15,
   "metadata": {},
   "outputs": [
    {
     "name": "stdout",
     "output_type": "stream",
     "text": [
      "WARNING!!!!, Only can be used for obtain inference speed!!!!\n"
     ]
    }
   ],
   "source": [
    "# set cudnn_benchmark\n",
    "if cfg.get('cudnn_benchmark', False):\n",
    "    torch.backends.cudnn.benchmark = True\n",
    "\n",
    "cfg.model.pretrained = None\n",
    "# in case the test dataset is concatenated\n",
    "samples_per_gpu = 1\n",
    "if isinstance(cfg.data.test, dict):\n",
    "    cfg.data.test.test_mode = True\n",
    "    samples_per_gpu = cfg.data.test.pop('samples_per_gpu', 1)\n",
    "    if samples_per_gpu > 1:\n",
    "        # Replace 'ImageToTensor' to 'DefaultFormatBundle'\n",
    "        cfg.data.test.pipeline = replace_ImageToTensor(\n",
    "            cfg.data.test.pipeline)\n",
    "elif isinstance(cfg.data.test, list):\n",
    "    for ds_cfg in cfg.data.test:\n",
    "        ds_cfg.test_mode = True\n",
    "    samples_per_gpu = max(\n",
    "        [ds_cfg.pop('samples_per_gpu', 1) for ds_cfg in cfg.data.test])\n",
    "    if samples_per_gpu > 1:\n",
    "        for ds_cfg in cfg.data.test:\n",
    "            ds_cfg.pipeline = replace_ImageToTensor(ds_cfg.pipeline)\n",
    "\n",
    "\n",
    "# build the dataloader\n",
    "# It seems set in config don't work\n",
    "# an ugly workaround to set test_mode = False\n",
    "cfg.data.test.test_mode = False\n",
    "dataset = build_dataset(cfg.data.test)\n",
    "data_loader = build_dataloader(\n",
    "    dataset,\n",
    "    samples_per_gpu=samples_per_gpu,\n",
    "    workers_per_gpu=cfg.data.workers_per_gpu,\n",
    "    dist=False,\n",
    "    shuffle=False,\n",
    "    nonshuffler_sampler=cfg.data.nonshuffler_sampler,\n",
    ")"
   ]
  },
  {
   "cell_type": "markdown",
   "metadata": {},
   "source": [
    "build model and attacker"
   ]
  },
  {
   "cell_type": "code",
   "execution_count": null,
   "metadata": {},
   "outputs": [],
   "source": [
    "attacker = build_attack(cfg.attack)\n",
    "\n",
    "# build the model and load checkpoint\n",
    "cfg.model.train_cfg = None\n",
    "model = build_model(cfg.model, test_cfg=cfg.get('test_cfg'))\n",
    "fp16_cfg = cfg.get('fp16', None)\n",
    "if fp16_cfg is not None:\n",
    "    wrap_fp16_model(model)\n",
    "checkpoint = load_checkpoint(model, checkpoint_path, map_location='cpu')\n",
    "\n",
    "# old versions did not save class info in checkpoints, this walkaround is\n",
    "# for backward compatibility\n",
    "if 'CLASSES' in checkpoint.get('meta', {}):\n",
    "    model.CLASSES = checkpoint['meta']['CLASSES']\n",
    "else:\n",
    "    model.CLASSES = dataset.CLASSES\n",
    "# palette for visualization in segmentation tasks\n",
    "if 'PALETTE' in checkpoint.get('meta', {}):\n",
    "    model.PALETTE = checkpoint['meta']['PALETTE']\n",
    "elif hasattr(dataset, 'PALETTE'):\n",
    "    # segmentation dataset has `PALETTE` attribute\n",
    "    model.PALETTE = dataset.PALETTE\n",
    "\n",
    "for n, p in model.named_parameters():\n",
    "    p.requires_grad = False\n",
    "model = MMDataParallel(model, device_ids=[0])"
   ]
  },
  {
   "cell_type": "markdown",
   "metadata": {},
   "source": [
    "fetch data from iterable `data_loader`"
   ]
  },
  {
   "cell_type": "code",
   "execution_count": 17,
   "metadata": {},
   "outputs": [],
   "source": [
    "data_loader = iter(data_loader)\n",
    "data = next(data_loader)"
   ]
  },
  {
   "cell_type": "markdown",
   "metadata": {},
   "source": [
    "run attack and generate adversarial input data, this may take some time and GPU memory (around 30GB)"
   ]
  },
  {
   "cell_type": "code",
   "execution_count": null,
   "metadata": {},
   "outputs": [],
   "source": [
    "inputs = attacker.run(model, **data) "
   ]
  },
  {
   "cell_type": "code",
   "execution_count": null,
   "metadata": {},
   "outputs": [],
   "source": []
  }
 ],
 "metadata": {
  "kernelspec": {
   "display_name": "Python 3.8.13 ('bev')",
   "language": "python",
   "name": "python3"
  },
  "language_info": {
   "codemirror_mode": {
    "name": "ipython",
    "version": 3
   },
   "file_extension": ".py",
   "mimetype": "text/x-python",
   "name": "python",
   "nbconvert_exporter": "python",
   "pygments_lexer": "ipython3",
   "version": "3.8.13"
  },
  "orig_nbformat": 4,
  "vscode": {
   "interpreter": {
    "hash": "c02ad8a9d7f137533d1d53e5dfa65b2892f6efa88d9e54eaf40000517f125423"
   }
  }
 },
 "nbformat": 4,
 "nbformat_minor": 2
}

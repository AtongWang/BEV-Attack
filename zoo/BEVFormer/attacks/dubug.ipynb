{
 "cells": [
  {
   "cell_type": "code",
   "execution_count": null,
   "metadata": {},
   "outputs": [],
   "source": [
    "import mmcv\n",
    "\n",
    "file_path = '/home/cihangxie/shaoyuan/BEV-Attack/test.pkl'\n",
    "data = mmcv.load(file_path)\n",
    "\n",
    "outputs = data['outputs']\n",
    "gt_bboxes_3d = data['gt_bboxes_3d']\n",
    "gt_labels_3d = data['gt_labels_3d']"
   ]
  },
  {
   "cell_type": "code",
   "execution_count": null,
   "metadata": {},
   "outputs": [],
   "source": [
    "outputs_bbox = outputs[0]['pts_bbox']['boxes_3d'].tensor\n",
    "outputs_scores = outputs[0]['pts_bbox']['scores_3d']\n",
    "outputs_labels = outputs[0]['pts_bbox']['labels_3d']\n",
    "gt_bbox = gt_bboxes_3d[0].data[0][0].tensor\n",
    "gt_label = gt_labels_3d[0].data[0][0]"
   ]
  },
  {
   "cell_type": "code",
   "execution_count": null,
   "metadata": {},
   "outputs": [],
   "source": []
  }
 ],
 "metadata": {
  "kernelspec": {
   "display_name": "Python 3.8.13 ('bev')",
   "language": "python",
   "name": "python3"
  },
  "language_info": {
   "codemirror_mode": {
    "name": "ipython",
    "version": 3
   },
   "file_extension": ".py",
   "mimetype": "text/x-python",
   "name": "python",
   "nbconvert_exporter": "python",
   "pygments_lexer": "ipython3",
   "version": "3.8.13"
  },
  "orig_nbformat": 4,
  "vscode": {
   "interpreter": {
    "hash": "c02ad8a9d7f137533d1d53e5dfa65b2892f6efa88d9e54eaf40000517f125423"
   }
  }
 },
 "nbformat": 4,
 "nbformat_minor": 2
}

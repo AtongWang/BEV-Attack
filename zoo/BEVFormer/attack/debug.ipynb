{
 "cells": [
  {
   "cell_type": "code",
   "execution_count": 1,
   "metadata": {},
   "outputs": [],
   "source": [
    "import sys\n",
    "sys.path.append('/home/cihangxie/shaoyuan/BEV-Attack')\n",
    "sys.path.append('/home/cihangxie/shaoyuan/BEV-Attack/zoo/BEVFormer')\n",
    "import argparse\n",
    "import mmcv\n",
    "import os\n",
    "import torch\n",
    "import warnings\n",
    "from mmcv import Config, DictAction\n",
    "from mmcv.cnn import fuse_conv_bn\n",
    "from mmcv.parallel import MMDataParallel, MMDistributedDataParallel\n",
    "from mmcv.runner import (get_dist_info, init_dist, load_checkpoint,\n",
    "                         wrap_fp16_model)\n",
    "\n",
    "from mmdet3d.apis import single_gpu_test\n",
    "from mmdet3d.datasets import build_dataset\n",
    "from projects.mmdet3d_plugin.datasets.builder import build_dataloader\n",
    "from mmdet3d.models import build_model\n",
    "from mmdet.apis import set_random_seed\n",
    "from projects.mmdet3d_plugin.bevformer.apis.test import custom_multi_gpu_test\n",
    "from mmdet.datasets import replace_ImageToTensor\n",
    "import time\n",
    "import os.path as osp"
   ]
  },
  {
   "cell_type": "code",
   "execution_count": 2,
   "metadata": {},
   "outputs": [],
   "source": [
    "config = '/home/cihangxie/shaoyuan/BEV-Attack/zoo/BEVFormer/projects/configs/bevformer/bevformer_base.py'\n",
    "checkpoint = '/home/cihangxie/shaoyuan/BEV-Attack/models/bevformer/bevformer_r101_dcn_24ep.pth'"
   ]
  },
  {
   "cell_type": "markdown",
   "metadata": {},
   "source": [
    "Load config"
   ]
  },
  {
   "cell_type": "code",
   "execution_count": 3,
   "metadata": {},
   "outputs": [
    {
     "name": "stdout",
     "output_type": "stream",
     "text": [
      "projects.mmdet3d_plugin\n"
     ]
    }
   ],
   "source": [
    "cfg = Config.fromfile(config)\n",
    "\n",
    "if cfg.get('custom_imports', None):\n",
    "    from mmcv.utils import import_modules_from_strings\n",
    "    import_modules_from_strings(**cfg['custom_imports'])\n",
    "\n",
    "# import modules from plguin/xx, registry will be updated\n",
    "if hasattr(cfg, 'plugin'):\n",
    "    if cfg.plugin:\n",
    "        import importlib\n",
    "        if hasattr(cfg, 'plugin_dir'):\n",
    "            plugin_dir = cfg.plugin_dir\n",
    "            _module_dir = os.path.dirname(plugin_dir)\n",
    "            _module_dir = _module_dir.split('/')\n",
    "            _module_path = _module_dir[0]\n",
    "\n",
    "            for m in _module_dir[1:]:\n",
    "                _module_path = _module_path + '.' + m\n",
    "            print(_module_path)\n",
    "            plg_lib = importlib.import_module(_module_path)\n",
    "        else:\n",
    "            # import dir is the dirpath for the config file\n",
    "            _module_dir = os.path.dirname(config)\n",
    "            _module_dir = _module_dir.split('/')\n",
    "            _module_path = _module_dir[0]\n",
    "            for m in _module_dir[1:]:\n",
    "                _module_path = _module_path + '.' + m\n",
    "            print(_module_path)\n",
    "            plg_lib = importlib.import_module(_module_path)"
   ]
  },
  {
   "cell_type": "markdown",
   "metadata": {},
   "source": [
    "build model and dataloader"
   ]
  },
  {
   "cell_type": "code",
   "execution_count": 4,
   "metadata": {},
   "outputs": [
    {
     "ename": "FileNotFoundError",
     "evalue": "CustomNuScenesDataset: [Errno 2] No such file or directory: '/data1/data/shaoyuan/nuscenes/nuscenes_infos_temporal_val.pkl'",
     "output_type": "error",
     "traceback": [
      "\u001b[0;31m---------------------------------------------------------------------------\u001b[0m",
      "\u001b[0;31mFileNotFoundError\u001b[0m                         Traceback (most recent call last)",
      "File \u001b[0;32m/usr/local/anaconda3/envs/bev/lib/python3.8/site-packages/mmcv/utils/registry.py:52\u001b[0m, in \u001b[0;36mbuild_from_cfg\u001b[0;34m(cfg, registry, default_args)\u001b[0m\n\u001b[1;32m     51\u001b[0m \u001b[39mtry\u001b[39;00m:\n\u001b[0;32m---> 52\u001b[0m     \u001b[39mreturn\u001b[39;00m obj_cls(\u001b[39m*\u001b[39;49m\u001b[39m*\u001b[39;49margs)\n\u001b[1;32m     53\u001b[0m \u001b[39mexcept\u001b[39;00m \u001b[39mException\u001b[39;00m \u001b[39mas\u001b[39;00m e:\n\u001b[1;32m     54\u001b[0m     \u001b[39m# Normal TypeError does not print class name.\u001b[39;00m\n",
      "File \u001b[0;32m~/shaoyuan/BEV-Attack/zoo/BEVFormer/projects/mmdet3d_plugin/datasets/nuscenes_dataset.py:26\u001b[0m, in \u001b[0;36mCustomNuScenesDataset.__init__\u001b[0;34m(self, queue_length, bev_size, overlap_test, *args, **kwargs)\u001b[0m\n\u001b[1;32m     25\u001b[0m \u001b[39mdef\u001b[39;00m \u001b[39m__init__\u001b[39m(\u001b[39mself\u001b[39m, queue_length\u001b[39m=\u001b[39m\u001b[39m4\u001b[39m, bev_size\u001b[39m=\u001b[39m(\u001b[39m200\u001b[39m, \u001b[39m200\u001b[39m), overlap_test\u001b[39m=\u001b[39m\u001b[39mFalse\u001b[39;00m, \u001b[39m*\u001b[39margs, \u001b[39m*\u001b[39m\u001b[39m*\u001b[39mkwargs):\n\u001b[0;32m---> 26\u001b[0m     \u001b[39msuper\u001b[39;49m()\u001b[39m.\u001b[39;49m\u001b[39m__init__\u001b[39;49m(\u001b[39m*\u001b[39;49margs, \u001b[39m*\u001b[39;49m\u001b[39m*\u001b[39;49mkwargs)\n\u001b[1;32m     27\u001b[0m     \u001b[39mself\u001b[39m\u001b[39m.\u001b[39mqueue_length \u001b[39m=\u001b[39m queue_length\n",
      "File \u001b[0;32m/usr/local/anaconda3/envs/bev/lib/python3.8/site-packages/mmdet3d-0.17.1-py3.8-linux-x86_64.egg/mmdet3d/datasets/nuscenes_dataset.py:129\u001b[0m, in \u001b[0;36mNuScenesDataset.__init__\u001b[0;34m(self, ann_file, pipeline, data_root, classes, load_interval, with_velocity, modality, box_type_3d, filter_empty_gt, test_mode, eval_version, use_valid_flag)\u001b[0m\n\u001b[1;32m    128\u001b[0m \u001b[39mself\u001b[39m\u001b[39m.\u001b[39muse_valid_flag \u001b[39m=\u001b[39m use_valid_flag\n\u001b[0;32m--> 129\u001b[0m \u001b[39msuper\u001b[39;49m()\u001b[39m.\u001b[39;49m\u001b[39m__init__\u001b[39;49m(\n\u001b[1;32m    130\u001b[0m     data_root\u001b[39m=\u001b[39;49mdata_root,\n\u001b[1;32m    131\u001b[0m     ann_file\u001b[39m=\u001b[39;49mann_file,\n\u001b[1;32m    132\u001b[0m     pipeline\u001b[39m=\u001b[39;49mpipeline,\n\u001b[1;32m    133\u001b[0m     classes\u001b[39m=\u001b[39;49mclasses,\n\u001b[1;32m    134\u001b[0m     modality\u001b[39m=\u001b[39;49mmodality,\n\u001b[1;32m    135\u001b[0m     box_type_3d\u001b[39m=\u001b[39;49mbox_type_3d,\n\u001b[1;32m    136\u001b[0m     filter_empty_gt\u001b[39m=\u001b[39;49mfilter_empty_gt,\n\u001b[1;32m    137\u001b[0m     test_mode\u001b[39m=\u001b[39;49mtest_mode)\n\u001b[1;32m    139\u001b[0m \u001b[39mself\u001b[39m\u001b[39m.\u001b[39mwith_velocity \u001b[39m=\u001b[39m with_velocity\n",
      "File \u001b[0;32m/usr/local/anaconda3/envs/bev/lib/python3.8/site-packages/mmdet3d-0.17.1-py3.8-linux-x86_64.egg/mmdet3d/datasets/custom_3d.py:64\u001b[0m, in \u001b[0;36mCustom3DDataset.__init__\u001b[0;34m(self, data_root, ann_file, pipeline, classes, modality, box_type_3d, filter_empty_gt, test_mode)\u001b[0m\n\u001b[1;32m     63\u001b[0m \u001b[39mself\u001b[39m\u001b[39m.\u001b[39mcat2id \u001b[39m=\u001b[39m {name: i \u001b[39mfor\u001b[39;00m i, name \u001b[39min\u001b[39;00m \u001b[39menumerate\u001b[39m(\u001b[39mself\u001b[39m\u001b[39m.\u001b[39mCLASSES)}\n\u001b[0;32m---> 64\u001b[0m \u001b[39mself\u001b[39m\u001b[39m.\u001b[39mdata_infos \u001b[39m=\u001b[39m \u001b[39mself\u001b[39;49m\u001b[39m.\u001b[39;49mload_annotations(\u001b[39mself\u001b[39;49m\u001b[39m.\u001b[39;49mann_file)\n\u001b[1;32m     66\u001b[0m \u001b[39mif\u001b[39;00m pipeline \u001b[39mis\u001b[39;00m \u001b[39mnot\u001b[39;00m \u001b[39mNone\u001b[39;00m:\n",
      "File \u001b[0;32m/usr/local/anaconda3/envs/bev/lib/python3.8/site-packages/mmdet3d-0.17.1-py3.8-linux-x86_64.egg/mmdet3d/datasets/nuscenes_dataset.py:185\u001b[0m, in \u001b[0;36mNuScenesDataset.load_annotations\u001b[0;34m(self, ann_file)\u001b[0m\n\u001b[1;32m    177\u001b[0m \u001b[39m\"\"\"Load annotations from ann_file.\u001b[39;00m\n\u001b[1;32m    178\u001b[0m \n\u001b[1;32m    179\u001b[0m \u001b[39mArgs:\u001b[39;00m\n\u001b[0;32m   (...)\u001b[0m\n\u001b[1;32m    183\u001b[0m \u001b[39m    list[dict]: List of annotations sorted by timestamps.\u001b[39;00m\n\u001b[1;32m    184\u001b[0m \u001b[39m\"\"\"\u001b[39;00m\n\u001b[0;32m--> 185\u001b[0m data \u001b[39m=\u001b[39m mmcv\u001b[39m.\u001b[39;49mload(ann_file)\n\u001b[1;32m    186\u001b[0m data_infos \u001b[39m=\u001b[39m \u001b[39mlist\u001b[39m(\u001b[39msorted\u001b[39m(data[\u001b[39m'\u001b[39m\u001b[39minfos\u001b[39m\u001b[39m'\u001b[39m], key\u001b[39m=\u001b[39m\u001b[39mlambda\u001b[39;00m e: e[\u001b[39m'\u001b[39m\u001b[39mtimestamp\u001b[39m\u001b[39m'\u001b[39m]))\n",
      "File \u001b[0;32m/usr/local/anaconda3/envs/bev/lib/python3.8/site-packages/mmcv/fileio/io.py:60\u001b[0m, in \u001b[0;36mload\u001b[0;34m(file, file_format, file_client_args, **kwargs)\u001b[0m\n\u001b[1;32m     59\u001b[0m \u001b[39melse\u001b[39;00m:\n\u001b[0;32m---> 60\u001b[0m     \u001b[39mwith\u001b[39;00m BytesIO(file_client\u001b[39m.\u001b[39;49mget(file)) \u001b[39mas\u001b[39;00m f:\n\u001b[1;32m     61\u001b[0m         obj \u001b[39m=\u001b[39m handler\u001b[39m.\u001b[39mload_from_fileobj(f, \u001b[39m*\u001b[39m\u001b[39m*\u001b[39mkwargs)\n",
      "File \u001b[0;32m/usr/local/anaconda3/envs/bev/lib/python3.8/site-packages/mmcv/fileio/file_client.py:992\u001b[0m, in \u001b[0;36mFileClient.get\u001b[0;34m(self, filepath)\u001b[0m\n\u001b[1;32m    977\u001b[0m \u001b[39m\"\"\"Read data from a given ``filepath`` with 'rb' mode.\u001b[39;00m\n\u001b[1;32m    978\u001b[0m \n\u001b[1;32m    979\u001b[0m \u001b[39mNote:\u001b[39;00m\n\u001b[0;32m   (...)\u001b[0m\n\u001b[1;32m    990\u001b[0m \u001b[39m        bytes object.\u001b[39;00m\n\u001b[1;32m    991\u001b[0m \u001b[39m\"\"\"\u001b[39;00m\n\u001b[0;32m--> 992\u001b[0m \u001b[39mreturn\u001b[39;00m \u001b[39mself\u001b[39;49m\u001b[39m.\u001b[39;49mclient\u001b[39m.\u001b[39;49mget(filepath)\n",
      "File \u001b[0;32m/usr/local/anaconda3/envs/bev/lib/python3.8/site-packages/mmcv/fileio/file_client.py:517\u001b[0m, in \u001b[0;36mHardDiskBackend.get\u001b[0;34m(self, filepath)\u001b[0m\n\u001b[1;32m    509\u001b[0m \u001b[39m\"\"\"Read data from a given ``filepath`` with 'rb' mode.\u001b[39;00m\n\u001b[1;32m    510\u001b[0m \n\u001b[1;32m    511\u001b[0m \u001b[39mArgs:\u001b[39;00m\n\u001b[0;32m   (...)\u001b[0m\n\u001b[1;32m    515\u001b[0m \u001b[39m    bytes: Expected bytes object.\u001b[39;00m\n\u001b[1;32m    516\u001b[0m \u001b[39m\"\"\"\u001b[39;00m\n\u001b[0;32m--> 517\u001b[0m \u001b[39mwith\u001b[39;00m \u001b[39mopen\u001b[39;49m(filepath, \u001b[39m'\u001b[39;49m\u001b[39mrb\u001b[39;49m\u001b[39m'\u001b[39;49m) \u001b[39mas\u001b[39;00m f:\n\u001b[1;32m    518\u001b[0m     value_buf \u001b[39m=\u001b[39m f\u001b[39m.\u001b[39mread()\n",
      "\u001b[0;31mFileNotFoundError\u001b[0m: [Errno 2] No such file or directory: '/data1/data/shaoyuan/nuscenes/nuscenes_infos_temporal_val.pkl'",
      "\nDuring handling of the above exception, another exception occurred:\n",
      "\u001b[0;31mFileNotFoundError\u001b[0m                         Traceback (most recent call last)",
      "\u001b[1;32m/home/cihangxie/shaoyuan/BEV-Attack/zoo/BEVFormer/attack/debug.ipynb Cell 6\u001b[0m in \u001b[0;36m<cell line: 3>\u001b[0;34m()\u001b[0m\n\u001b[1;32m      <a href='vscode-notebook-cell://ssh-remote%2Bvila-4u-6/home/cihangxie/shaoyuan/BEV-Attack/zoo/BEVFormer/attack/debug.ipynb#W5sdnNjb2RlLXJlbW90ZQ%3D%3D?line=0'>1</a>\u001b[0m samples_per_gpu \u001b[39m=\u001b[39m \u001b[39m1\u001b[39m\n\u001b[1;32m      <a href='vscode-notebook-cell://ssh-remote%2Bvila-4u-6/home/cihangxie/shaoyuan/BEV-Attack/zoo/BEVFormer/attack/debug.ipynb#W5sdnNjb2RlLXJlbW90ZQ%3D%3D?line=1'>2</a>\u001b[0m \u001b[39m# build the dataloader\u001b[39;00m\n\u001b[0;32m----> <a href='vscode-notebook-cell://ssh-remote%2Bvila-4u-6/home/cihangxie/shaoyuan/BEV-Attack/zoo/BEVFormer/attack/debug.ipynb#W5sdnNjb2RlLXJlbW90ZQ%3D%3D?line=2'>3</a>\u001b[0m dataset \u001b[39m=\u001b[39m build_dataset(cfg\u001b[39m.\u001b[39;49mdata\u001b[39m.\u001b[39;49mtest)\n\u001b[1;32m      <a href='vscode-notebook-cell://ssh-remote%2Bvila-4u-6/home/cihangxie/shaoyuan/BEV-Attack/zoo/BEVFormer/attack/debug.ipynb#W5sdnNjb2RlLXJlbW90ZQ%3D%3D?line=3'>4</a>\u001b[0m data_loader \u001b[39m=\u001b[39m build_dataloader(\n\u001b[1;32m      <a href='vscode-notebook-cell://ssh-remote%2Bvila-4u-6/home/cihangxie/shaoyuan/BEV-Attack/zoo/BEVFormer/attack/debug.ipynb#W5sdnNjb2RlLXJlbW90ZQ%3D%3D?line=4'>5</a>\u001b[0m     dataset,\n\u001b[1;32m      <a href='vscode-notebook-cell://ssh-remote%2Bvila-4u-6/home/cihangxie/shaoyuan/BEV-Attack/zoo/BEVFormer/attack/debug.ipynb#W5sdnNjb2RlLXJlbW90ZQ%3D%3D?line=5'>6</a>\u001b[0m     samples_per_gpu\u001b[39m=\u001b[39msamples_per_gpu,\n\u001b[0;32m   (...)\u001b[0m\n\u001b[1;32m     <a href='vscode-notebook-cell://ssh-remote%2Bvila-4u-6/home/cihangxie/shaoyuan/BEV-Attack/zoo/BEVFormer/attack/debug.ipynb#W5sdnNjb2RlLXJlbW90ZQ%3D%3D?line=9'>10</a>\u001b[0m     nonshuffler_sampler\u001b[39m=\u001b[39mcfg\u001b[39m.\u001b[39mdata\u001b[39m.\u001b[39mnonshuffler_sampler,\n\u001b[1;32m     <a href='vscode-notebook-cell://ssh-remote%2Bvila-4u-6/home/cihangxie/shaoyuan/BEV-Attack/zoo/BEVFormer/attack/debug.ipynb#W5sdnNjb2RlLXJlbW90ZQ%3D%3D?line=10'>11</a>\u001b[0m )\n\u001b[1;32m     <a href='vscode-notebook-cell://ssh-remote%2Bvila-4u-6/home/cihangxie/shaoyuan/BEV-Attack/zoo/BEVFormer/attack/debug.ipynb#W5sdnNjb2RlLXJlbW90ZQ%3D%3D?line=12'>13</a>\u001b[0m \u001b[39m# build the model and load checkpoint\u001b[39;00m\n",
      "File \u001b[0;32m/usr/local/anaconda3/envs/bev/lib/python3.8/site-packages/mmdet3d-0.17.1-py3.8-linux-x86_64.egg/mmdet3d/datasets/builder.py:41\u001b[0m, in \u001b[0;36mbuild_dataset\u001b[0;34m(cfg, default_args)\u001b[0m\n\u001b[1;32m     39\u001b[0m     dataset \u001b[39m=\u001b[39m _concat_dataset(cfg, default_args)\n\u001b[1;32m     40\u001b[0m \u001b[39melse\u001b[39;00m:\n\u001b[0;32m---> 41\u001b[0m     dataset \u001b[39m=\u001b[39m build_from_cfg(cfg, DATASETS, default_args)\n\u001b[1;32m     43\u001b[0m \u001b[39mreturn\u001b[39;00m dataset\n",
      "File \u001b[0;32m/usr/local/anaconda3/envs/bev/lib/python3.8/site-packages/mmcv/utils/registry.py:55\u001b[0m, in \u001b[0;36mbuild_from_cfg\u001b[0;34m(cfg, registry, default_args)\u001b[0m\n\u001b[1;32m     52\u001b[0m     \u001b[39mreturn\u001b[39;00m obj_cls(\u001b[39m*\u001b[39m\u001b[39m*\u001b[39margs)\n\u001b[1;32m     53\u001b[0m \u001b[39mexcept\u001b[39;00m \u001b[39mException\u001b[39;00m \u001b[39mas\u001b[39;00m e:\n\u001b[1;32m     54\u001b[0m     \u001b[39m# Normal TypeError does not print class name.\u001b[39;00m\n\u001b[0;32m---> 55\u001b[0m     \u001b[39mraise\u001b[39;00m \u001b[39mtype\u001b[39m(e)(\u001b[39mf\u001b[39m\u001b[39m'\u001b[39m\u001b[39m{\u001b[39;00mobj_cls\u001b[39m.\u001b[39m\u001b[39m__name__\u001b[39m\u001b[39m}\u001b[39;00m\u001b[39m: \u001b[39m\u001b[39m{\u001b[39;00me\u001b[39m}\u001b[39;00m\u001b[39m'\u001b[39m)\n",
      "\u001b[0;31mFileNotFoundError\u001b[0m: CustomNuScenesDataset: [Errno 2] No such file or directory: '/data1/data/shaoyuan/nuscenes/nuscenes_infos_temporal_val.pkl'"
     ]
    }
   ],
   "source": [
    "samples_per_gpu = 1\n",
    "# build the dataloader\n",
    "dataset = build_dataset(cfg.data.test)\n",
    "data_loader = build_dataloader(\n",
    "    dataset,\n",
    "    samples_per_gpu=samples_per_gpu,\n",
    "    workers_per_gpu=cfg.data.workers_per_gpu,\n",
    "    dist=False,\n",
    "    shuffle=False,\n",
    "    nonshuffler_sampler=cfg.data.nonshuffler_sampler,\n",
    ")\n",
    "\n",
    "# build the model and load checkpoint\n",
    "cfg.model.train_cfg = None\n",
    "model = build_model(cfg.model, test_cfg=cfg.get('test_cfg'))\n",
    "fp16_cfg = cfg.get('fp16', None)\n",
    "if fp16_cfg is not None:\n",
    "    wrap_fp16_model(model)\n",
    "checkpoint = load_checkpoint(model, checkpoint, map_location='cpu')\n",
    "\n",
    "if 'CLASSES' in checkpoint.get('meta', {}):\n",
    "    model.CLASSES = checkpoint['meta']['CLASSES']\n",
    "else:\n",
    "    model.CLASSES = dataset.CLASSES\n",
    "# palette for visualization in segmentation tasks\n",
    "if 'PALETTE' in checkpoint.get('meta', {}):\n",
    "    model.PALETTE = checkpoint['meta']['PALETTE']\n",
    "elif hasattr(dataset, 'PALETTE'):\n",
    "    # segmentation dataset has `PALETTE` attribute\n",
    "    model.PALETTE = dataset.PALETTE"
   ]
  },
  {
   "cell_type": "code",
   "execution_count": null,
   "metadata": {},
   "outputs": [],
   "source": []
  }
 ],
 "metadata": {
  "kernelspec": {
   "display_name": "Python 3.8.13 ('bev')",
   "language": "python",
   "name": "python3"
  },
  "language_info": {
   "codemirror_mode": {
    "name": "ipython",
    "version": 3
   },
   "file_extension": ".py",
   "mimetype": "text/x-python",
   "name": "python",
   "nbconvert_exporter": "python",
   "pygments_lexer": "ipython3",
   "version": "3.8.13"
  },
  "orig_nbformat": 4,
  "vscode": {
   "interpreter": {
    "hash": "c02ad8a9d7f137533d1d53e5dfa65b2892f6efa88d9e54eaf40000517f125423"
   }
  }
 },
 "nbformat": 4,
 "nbformat_minor": 2
}

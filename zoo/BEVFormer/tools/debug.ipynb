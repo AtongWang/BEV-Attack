{
 "cells": [
  {
   "cell_type": "code",
   "execution_count": 1,
   "metadata": {},
   "outputs": [],
   "source": [
    "import sys\n",
    "sys.path.append('/home/cihangxie/shaoyuan/BEV-Attack')\n",
    "sys.path.append('/home/cihangxie/shaoyuan/BEV-Attack/zoo/BEVFormer')\n",
    "import argparse\n",
    "import mmcv\n",
    "import os\n",
    "import torch\n",
    "import warnings\n",
    "from mmcv import Config, DictAction\n",
    "from mmcv.cnn import fuse_conv_bn\n",
    "from mmcv.parallel import MMDataParallel, MMDistributedDataParallel\n",
    "from mmcv.runner import (get_dist_info, init_dist, load_checkpoint,\n",
    "                         wrap_fp16_model)\n",
    "\n",
    "from mmdet3d.apis import single_gpu_test\n",
    "from mmdet3d.datasets import build_dataset\n",
    "from projects.mmdet3d_plugin.datasets.builder import build_dataloader\n",
    "from mmdet3d.models import build_model\n",
    "from mmdet.apis import set_random_seed\n",
    "from projects.mmdet3d_plugin.bevformer.apis.test import custom_multi_gpu_test\n",
    "from mmdet.datasets import replace_ImageToTensor\n",
    "import time\n",
    "import os.path as osp"
   ]
  },
  {
   "cell_type": "code",
   "execution_count": 2,
   "metadata": {},
   "outputs": [],
   "source": [
    "config = '/home/cihangxie/shaoyuan/BEV-Attack/zoo/BEVFormer/projects/configs/bevformer/bevformer_base.py'\n",
    "checkpoint = '/home/cihangxie/shaoyuan/BEV-Attack/models/bevformer/bevformer_r101_dcn_24ep.pth'"
   ]
  },
  {
   "cell_type": "markdown",
   "metadata": {},
   "source": [
    "Load config"
   ]
  },
  {
   "cell_type": "code",
   "execution_count": 3,
   "metadata": {},
   "outputs": [
    {
     "name": "stdout",
     "output_type": "stream",
     "text": [
      "projects.mmdet3d_plugin\n"
     ]
    }
   ],
   "source": [
    "cfg = Config.fromfile(config)\n",
    "\n",
    "if cfg.get('custom_imports', None):\n",
    "    from mmcv.utils import import_modules_from_strings\n",
    "    import_modules_from_strings(**cfg['custom_imports'])\n",
    "\n",
    "# import modules from plguin/xx, registry will be updated\n",
    "if hasattr(cfg, 'plugin'):\n",
    "    if cfg.plugin:\n",
    "        import importlib\n",
    "        if hasattr(cfg, 'plugin_dir'):\n",
    "            plugin_dir = cfg.plugin_dir\n",
    "            _module_dir = os.path.dirname(plugin_dir)\n",
    "            _module_dir = _module_dir.split('/')\n",
    "            _module_path = _module_dir[0]\n",
    "\n",
    "            for m in _module_dir[1:]:\n",
    "                _module_path = _module_path + '.' + m\n",
    "            print(_module_path)\n",
    "            plg_lib = importlib.import_module(_module_path)\n",
    "        else:\n",
    "            # import dir is the dirpath for the config file\n",
    "            _module_dir = os.path.dirname(config)\n",
    "            _module_dir = _module_dir.split('/')\n",
    "            _module_path = _module_dir[0]\n",
    "            for m in _module_dir[1:]:\n",
    "                _module_path = _module_path + '.' + m\n",
    "            print(_module_path)\n",
    "            plg_lib = importlib.import_module(_module_path)"
   ]
  },
  {
   "cell_type": "markdown",
   "metadata": {},
   "source": [
    "build model and dataloader"
   ]
  },
  {
   "cell_type": "code",
   "execution_count": null,
   "metadata": {},
   "outputs": [],
   "source": [
    "samples_per_gpu = 1\n",
    "# build the dataloader\n",
    "dataset = build_dataset(cfg.data.test)\n",
    "data_loader = build_dataloader(\n",
    "    dataset,\n",
    "    samples_per_gpu=samples_per_gpu,\n",
    "    workers_per_gpu=cfg.data.workers_per_gpu,\n",
    "    dist=False,\n",
    "    shuffle=False,\n",
    "    nonshuffler_sampler=cfg.data.nonshuffler_sampler,\n",
    ")\n",
    "\n",
    "# build the model and load checkpoint\n",
    "cfg.model.train_cfg = None\n",
    "model = build_model(cfg.model, test_cfg=cfg.get('test_cfg'))\n",
    "fp16_cfg = cfg.get('fp16', None)\n",
    "if fp16_cfg is not None:\n",
    "    wrap_fp16_model(model)\n",
    "checkpoint = load_checkpoint(model, checkpoint, map_location='cpu')\n",
    "\n",
    "if 'CLASSES' in checkpoint.get('meta', {}):\n",
    "    model.CLASSES = checkpoint['meta']['CLASSES']\n",
    "else:\n",
    "    model.CLASSES = dataset.CLASSES\n",
    "# palette for visualization in segmentation tasks\n",
    "if 'PALETTE' in checkpoint.get('meta', {}):\n",
    "    model.PALETTE = checkpoint['meta']['PALETTE']\n",
    "elif hasattr(dataset, 'PALETTE'):\n",
    "    # segmentation dataset has `PALETTE` attribute\n",
    "    model.PALETTE = dataset.PALETTE"
   ]
  }
 ],
 "metadata": {
  "kernelspec": {
   "display_name": "Python 3.8.13 ('bev')",
   "language": "python",
   "name": "python3"
  },
  "language_info": {
   "codemirror_mode": {
    "name": "ipython",
    "version": 3
   },
   "file_extension": ".py",
   "mimetype": "text/x-python",
   "name": "python",
   "nbconvert_exporter": "python",
   "pygments_lexer": "ipython3",
   "version": "3.8.13"
  },
  "orig_nbformat": 4,
  "vscode": {
   "interpreter": {
    "hash": "c02ad8a9d7f137533d1d53e5dfa65b2892f6efa88d9e54eaf40000517f125423"
   }
  }
 },
 "nbformat": 4,
 "nbformat_minor": 2
}
